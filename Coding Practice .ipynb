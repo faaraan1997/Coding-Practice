{
 "cells": [
  {
   "cell_type": "code",
   "execution_count": null,
   "id": "8c0c756d",
   "metadata": {},
   "outputs": [],
   "source": [
    "select n,\n",
    "case when p is null then \"Root\"\n",
    "when n in (select distinct p from bst) then \"Inner\"\n",
    "else \"Leaf\"\n",
    "end \"NodeType\"\n",
    "from bst \n",
    "order by n"
   ]
  },
  {
   "cell_type": "code",
   "execution_count": null,
   "id": "67feccbb",
   "metadata": {},
   "outputs": [],
   "source": [
    "select sum(amt), user_id, dt form table \n",
    "where dt>= date_add(SYSDATE(),interval -2 days)\n",
    "group by user_id, dt\n",
    "order by dt desc"
   ]
  },
  {
   "cell_type": "code",
   "execution_count": null,
   "id": "9b6b7482",
   "metadata": {},
   "outputs": [],
   "source": [
    "select node,\n",
    "case when p is null then \"Root\"\n",
    "when n in (select distinct(p) from table where p is not null) then \"Inner\"\n",
    "else \"Leaf\"\n",
    "end \"NodeType\"\n",
    "form bst\n",
    "order by n"
   ]
  },
  {
   "cell_type": "code",
   "execution_count": null,
   "id": "8e1f6b00",
   "metadata": {},
   "outputs": [],
   "source": [
    "Select *, Sum(sales) \n",
    "Over ( Partition By Region year ) As CumSum_By_year\n",
    "From table"
   ]
  },
  {
   "cell_type": "code",
   "execution_count": null,
   "id": "b91d3ccd",
   "metadata": {},
   "outputs": [],
   "source": [
    "# int(int_stack.pop())\n",
    "st=\"\"\n",
    "def make_str(fun_st):\n",
    "    val = int(int_stack[0])\n",
    "    newst=\"\"\n",
    "    for j in range(val):\n",
    "        newst = newst+fun_st\n",
    "    return newst\n",
    "    \n",
    "for i in range(len(char_stack)):\n",
    "    \n",
    "    if char_stack[i]!=']':\n",
    "        st = st+char_stack[i]\n",
    "    elif char_stack[i]==']':\n",
    "        newst = make_str(st)"
   ]
  },
  {
   "cell_type": "code",
   "execution_count": null,
   "id": "f7f04692",
   "metadata": {},
   "outputs": [],
   "source": [
    "newst"
   ]
  },
  {
   "cell_type": "code",
   "execution_count": null,
   "id": "833b9e5b",
   "metadata": {},
   "outputs": [],
   "source": []
  },
  {
   "cell_type": "markdown",
   "id": "9a53c26e",
   "metadata": {},
   "source": [
    "# Median of 2 Sorted Arrays of different sizes | Binary Search | Data Structures and Algorithms"
   ]
  },
  {
   "cell_type": "code",
   "execution_count": null,
   "id": "bd19966c",
   "metadata": {},
   "outputs": [],
   "source": [
    "arr1 = [1,5,8,10,18,20]\n",
    "arr2 = [2,3,6,7]\n",
    "\n",
    "n1=len(arr1)\n",
    "n2=len(arr2)\n",
    "lo=0\n",
    "hi= n1\n",
    "\n",
    "while (lo<=hi):\n",
    "    cut1=((lo+hi)/2)\n",
    "    cut2=((n1+n2)/2)-cut1\n",
    "    \n",
    "    if cut1==0:\n",
    "        l1=-1000\n",
    "    else:\n",
    "        l1=arr1[int(cut1)-1]\n",
    "        \n",
    "    if cut2==0:\n",
    "        l2=-1000\n",
    "    else:\n",
    "        l2=arr2[int(cut2)-1]\n",
    "        \n",
    "    \n",
    "    if cut1==n1:\n",
    "        r1=1000\n",
    "    else:\n",
    "        r1=arr1[int(cut1)]\n",
    "        \n",
    "    if cut2==n2:\n",
    "        r2=1000\n",
    "    else:\n",
    "        r2=arr2[int(cut2)]\n",
    "        \n",
    "    if l1>r2:\n",
    "        hi = cut1-1\n",
    "    elif l2>r1:\n",
    "        lo = cut1+1\n",
    "    \n",
    "    else:\n",
    "        if ((n1+n2)%2) == 0:\n",
    "            print(int((max(l1,l1)+min(r1,r2)))/2)\n",
    "            break\n",
    "        else:\n",
    "            print(min(r1,r2))\n",
    "            break\n",
    "        "
   ]
  },
  {
   "cell_type": "markdown",
   "id": "d041a210",
   "metadata": {},
   "source": [
    "# Median of stream of running integers | Heaps, Priority Queues Application | Explanation from Basics"
   ]
  },
  {
   "cell_type": "code",
   "execution_count": 19,
   "id": "3a3709d3",
   "metadata": {},
   "outputs": [
    {
     "name": "stdout",
     "output_type": "stream",
     "text": [
      "3.5\n"
     ]
    }
   ],
   "source": [
    "arr = [5, 2, 3,1,6,4]\n",
    "#max heap\n",
    "q1 = [arr[0]]\n",
    "#min heap\n",
    "q2 =[]\n",
    "\n",
    "import heapq\n",
    "\n",
    "for i in range(1,len(arr)):\n",
    "\n",
    "    heapq.heapify(q1)\n",
    "    heapq.heapify(q2)\n",
    "   \n",
    "    if len(q1)==0 or (heapq.nlargest(1,q1)[0]> arr[i]):\n",
    "        q1.append(arr[i])\n",
    "        heapq.heapify(q1)\n",
    "       \n",
    "    else:\n",
    "        q2.append(arr[i])\n",
    "        heapq.heapify(q2)\n",
    "\n",
    "    \n",
    "    if len(q1)>(len(q2)+1):\n",
    "        q2.append(heapq.nlargest(1,q1)[0])\n",
    "        heapq.heapify(q2)\n",
    "        \n",
    "        q1.pop(len(q1)-1)\n",
    "        heapq.heapify(q1)\n",
    "       \n",
    "        \n",
    "    elif len(q2)>(len(q1)+1):\n",
    "        q1.append(heapq.nsmallest(1,q2)[0])\n",
    "        heapq.heapify(q1)\n",
    "       \n",
    "        q2.pop(0)\n",
    "        heapq.heapify(q2)\n",
    "        \n",
    "\n",
    "print((heapq.nlargest(1,q1)[0]+heapq.nsmallest(1,q2)[0])/2)"
   ]
  }
 ],
 "metadata": {
  "kernelspec": {
   "display_name": "Python 3 (ipykernel)",
   "language": "python",
   "name": "python3"
  },
  "language_info": {
   "codemirror_mode": {
    "name": "ipython",
    "version": 3
   },
   "file_extension": ".py",
   "mimetype": "text/x-python",
   "name": "python",
   "nbconvert_exporter": "python",
   "pygments_lexer": "ipython3",
   "version": "3.9.7"
  }
 },
 "nbformat": 4,
 "nbformat_minor": 5
}
